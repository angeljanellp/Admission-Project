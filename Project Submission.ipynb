{
 "cells": [
  {
   "cell_type": "markdown",
   "id": "ed175a82",
   "metadata": {},
   "source": [
    "# Project Submission\n",
    "\n",
    "**Please use this notebook for your submission.**\n",
    "\n",
    "Make sure to fill out all the required fields and to answer all the questions.\n",
    "\n",
    "You will be working with a dataset that includes the results of international football matches from 1872 to 2024. The matches range from FIFA World Cups to regular friendly matches. \n",
    "\n",
    "At the end of this project, you will have answered the following questions:\n",
    "\n",
    "1. What is the average number of goals for the home team? \n",
    "2. What is the average number of goals for the away team? \n",
    "3. What is the country with the highest overall home score?\n",
    "4. What are the top 3 type of tournaments?\n",
    "5. Which country has the highest overall FIFA World Cup goals?\n",
    "\n",
    "\n",
    "**Submission Requirements:**\n",
    "\n",
    "- Make sure that you run all cells with code in your notebook before submitting.\n",
    "- You can add additional cells of code if you want, but make sure to clean up your notebook, and only leave the code required to answer the questions.\n",
    "\n",
    "\n",
    "_Original Data Source: [Kaggle](https://www.kaggle.com/datasets/martj42/international-football-results-from-1872-to-2017/data)_"
   ]
  },
  {
   "cell_type": "markdown",
   "id": "43e336b8",
   "metadata": {},
   "source": [
    "## Step 1: Getting Started\n",
    "\n",
    "You will mainly work with a Python library called Pandas. Pandas is a powerful library that allows us to manipulate data. In order to use Pandas, you first have to import it. "
   ]
  },
  {
   "cell_type": "code",
   "execution_count": 2,
   "id": "3033fd44",
   "metadata": {},
   "outputs": [],
   "source": [
    "import pandas as pd"
   ]
  },
  {
   "cell_type": "markdown",
   "id": "f7e3b7f7",
   "metadata": {},
   "source": [
    "## Step 2: Loading and Exporing the Data\n",
    "\n",
    "You can use Pandas to explore and manipulate the _results.csv_ file. \n",
    "You first have to load the csv file into a Pandas dataframe, so you can then analyize the data. \n",
    "\n",
    "When using `pd.read_csv()`, make sure you inlcude the correct path to the csv file, depending on where you saved it when you downloaded it."
   ]
  },
  {
   "cell_type": "code",
   "execution_count": 3,
   "id": "2c9de780",
   "metadata": {},
   "outputs": [],
   "source": [
    "# First: Load the csv file into a Pandas dataframe (df)\n",
    "\n",
    "df = pd.read_csv('results.csv')"
   ]
  },
  {
   "cell_type": "code",
   "execution_count": 4,
   "id": "bb2a11f0",
   "metadata": {},
   "outputs": [
    {
     "name": "stdout",
     "output_type": "stream",
     "text": [
      "<class 'pandas.core.frame.DataFrame'>\n",
      "RangeIndex: 45315 entries, 0 to 45314\n",
      "Data columns (total 9 columns):\n",
      " #   Column      Non-Null Count  Dtype \n",
      "---  ------      --------------  ----- \n",
      " 0   date        45315 non-null  object\n",
      " 1   home_team   45315 non-null  object\n",
      " 2   away_team   45315 non-null  object\n",
      " 3   home_score  45315 non-null  int64 \n",
      " 4   away_score  45315 non-null  int64 \n",
      " 5   tournament  45315 non-null  object\n",
      " 6   city        45315 non-null  object\n",
      " 7   country     45315 non-null  object\n",
      " 8   neutral     45315 non-null  bool  \n",
      "dtypes: bool(1), int64(2), object(6)\n",
      "memory usage: 2.8+ MB\n",
      "             date home_team    away_team  home_score  away_score  \\\n",
      "0      1872-11-30  Scotland      England           0           0   \n",
      "1      1873-03-08   England     Scotland           4           2   \n",
      "2      1874-03-07  Scotland      England           2           1   \n",
      "3      1875-03-06   England     Scotland           2           2   \n",
      "4      1876-03-04  Scotland      England           3           0   \n",
      "...           ...       ...          ...         ...         ...   \n",
      "45310  2023-11-21     Wales       Turkey           1           1   \n",
      "45311  2023-11-21   Croatia      Armenia           1           0   \n",
      "45312  2023-11-21   Andorra       Israel           0           2   \n",
      "45313  2023-11-21    Kosovo      Belarus           0           1   \n",
      "45314  2023-11-21   Romania  Switzerland           1           0   \n",
      "\n",
      "                    tournament              city   country  neutral  \n",
      "0                     Friendly           Glasgow  Scotland    False  \n",
      "1                     Friendly            London   England    False  \n",
      "2                     Friendly           Glasgow  Scotland    False  \n",
      "3                     Friendly            London   England    False  \n",
      "4                     Friendly           Glasgow  Scotland    False  \n",
      "...                        ...               ...       ...      ...  \n",
      "45310  UEFA Euro qualification           Cardiff     Wales    False  \n",
      "45311  UEFA Euro qualification            Zagreb   Croatia    False  \n",
      "45312  UEFA Euro qualification  Andorra la Vella   Andorra    False  \n",
      "45313  UEFA Euro qualification          Pristina    Kosovo    False  \n",
      "45314  UEFA Euro qualification         Bucharest   Romania    False  \n",
      "\n",
      "[45315 rows x 9 columns]\n"
     ]
    }
   ],
   "source": [
    "# Explore the df\n",
    "\n",
    "df.info('results.csv')\n",
    "print(df)"
   ]
  },
  {
   "cell_type": "markdown",
   "id": "6a2aa881",
   "metadata": {},
   "source": [
    "## Step 3: Data Analysis"
   ]
  },
  {
   "cell_type": "markdown",
   "id": "98b9d5dd",
   "metadata": {},
   "source": [
    "### Q1: What is the average number of goals for the home team?\n",
    "\n",
    "Hint: You can call the `mean()` method on the _'home_score'_ column."
   ]
  },
  {
   "cell_type": "code",
   "execution_count": 5,
   "id": "c2c5b5ea",
   "metadata": {},
   "outputs": [
    {
     "data": {
      "text/plain": [
       "1.7393136930376256"
      ]
     },
     "execution_count": 5,
     "metadata": {},
     "output_type": "execute_result"
    }
   ],
   "source": [
    "\n",
    "df['home_score'].mean()\n"
   ]
  },
  {
   "cell_type": "markdown",
   "id": "ce194e01",
   "metadata": {},
   "source": [
    "### Q2: What is the average number of goals for the away team?\n",
    "\n",
    "Hint: You can call the `mean()` method on the _'away_score'_ column."
   ]
  },
  {
   "cell_type": "code",
   "execution_count": 6,
   "id": "4fb43467",
   "metadata": {},
   "outputs": [
    {
     "data": {
      "text/plain": [
       "1.1782412004854905"
      ]
     },
     "execution_count": 6,
     "metadata": {},
     "output_type": "execute_result"
    }
   ],
   "source": [
    "df['away_score'].mean()\n"
   ]
  },
  {
   "cell_type": "markdown",
   "id": "c6044d75",
   "metadata": {},
   "source": [
    "### Q3: What is the country with the highest overall home score?\n",
    "\n",
    "Hint: You will need to group the data by country, then get the sum of home scores for each country. You can use the `idxmax()` function to find the index(country) with the highest sum. "
   ]
  },
  {
   "cell_type": "code",
   "execution_count": 7,
   "id": "e5d93b04",
   "metadata": {},
   "outputs": [
    {
     "name": "stdout",
     "output_type": "stream",
     "text": [
      "United States\n"
     ]
    }
   ],
   "source": [
    "group=df.groupby(['country'])['home_score'].sum()\n",
    "print(group.idxmax())\n"
   ]
  },
  {
   "cell_type": "markdown",
   "id": "47e0f275",
   "metadata": {},
   "source": [
    "### Q4: What are the top 3 type of tournaments?\n",
    "\n",
    "Hint: You can use the `value_counts()` method to count the occurences of each unique value in the _'tournament'_ column."
   ]
  },
  {
   "cell_type": "code",
   "execution_count": 8,
   "id": "2d65e4e3",
   "metadata": {},
   "outputs": [
    {
     "name": "stdout",
     "output_type": "stream",
     "text": [
      "tournament\n",
      "Friendly                        17773\n",
      "FIFA World Cup qualification     8016\n",
      "UEFA Euro qualification          2815\n",
      "Name: count, dtype: int64\n"
     ]
    }
   ],
   "source": [
    "# Code here\n",
    "print(df['tournament'].value_counts().head(3))\n",
    "\n",
    "\n"
   ]
  },
  {
   "cell_type": "markdown",
   "id": "0bdc8158",
   "metadata": {},
   "source": [
    "### Q5: Which country has the highest overall FIFA World Cup goals?\n",
    "\n",
    "To answer this question, consider breaking down your solution into 3 steps.\n",
    "\n",
    "**5.1 Create a new dataframe (fifa_df) that only contains rows where the \"tournament\" column == 'FIFA World Cup'.**"
   ]
  },
  {
   "cell_type": "code",
   "execution_count": 9,
   "id": "db30530c",
   "metadata": {},
   "outputs": [
    {
     "name": "stdout",
     "output_type": "stream",
     "text": [
      "             date              home_team       away_team  home_score  \\\n",
      "1588   1933-06-11                 Sweden         Estonia           6   \n",
      "1593   1933-06-29              Lithuania          Sweden           0   \n",
      "1612   1933-09-24             Yugoslavia     Switzerland           2   \n",
      "1620   1933-10-15                 Poland  Czechoslovakia           1   \n",
      "1627   1933-10-29            Switzerland         Romania           2   \n",
      "...           ...                    ...             ...         ...   \n",
      "45300  2023-11-21                Somalia          Uganda           0   \n",
      "45301  2023-11-21               Botswana          Guinea           1   \n",
      "45302  2023-11-21                 Malawi         Tunisia           0   \n",
      "45303  2023-11-21  São Tomé and Príncipe         Namibia           0   \n",
      "45304  2023-11-21                Comoros           Ghana           1   \n",
      "\n",
      "       away_score                    tournament         city      country  \\\n",
      "1588            2  FIFA World Cup qualification    Stockholm       Sweden   \n",
      "1593            2  FIFA World Cup qualification       Kaunas    Lithuania   \n",
      "1612            2  FIFA World Cup qualification     Belgrade   Yugoslavia   \n",
      "1620            2  FIFA World Cup qualification       Warsaw       Poland   \n",
      "1627            2  FIFA World Cup qualification        Berne  Switzerland   \n",
      "...           ...                           ...          ...          ...   \n",
      "45300           1  FIFA World Cup qualification      Berkane      Morocco   \n",
      "45301           0  FIFA World Cup qualification  Francistown     Botswana   \n",
      "45302           1  FIFA World Cup qualification     Lilongwe       Malawi   \n",
      "45303           2  FIFA World Cup qualification       Agadir      Morocco   \n",
      "45304           0  FIFA World Cup qualification       Moroni      Comoros   \n",
      "\n",
      "       neutral  \n",
      "1588     False  \n",
      "1593     False  \n",
      "1612     False  \n",
      "1620     False  \n",
      "1627     False  \n",
      "...        ...  \n",
      "45300     True  \n",
      "45301    False  \n",
      "45302    False  \n",
      "45303     True  \n",
      "45304    False  \n",
      "\n",
      "[8016 rows x 9 columns]\n"
     ]
    }
   ],
   "source": [
    "fifa_df=df.loc[(df['tournament']=='FIFA World Cup qualification')]\n",
    "print(fifa_df)\n",
    "\n"
   ]
  },
  {
   "cell_type": "markdown",
   "id": "c06b0011",
   "metadata": {},
   "source": [
    "**5.2 In your new fifa_df, create a new _'total_score'_ column that sums _'home_score'_ + _'away_score'_ for each row.**\n",
    "\n",
    "PS. If you get a \"SettingWithCopyWarning\", please ignore it."
   ]
  },
  {
   "cell_type": "code",
   "execution_count": 10,
   "id": "28a49558-5078-4d15-882e-87c99356ae89",
   "metadata": {},
   "outputs": [
    {
     "name": "stdout",
     "output_type": "stream",
     "text": [
      "             date              home_team       away_team  home_score  \\\n",
      "1588   1933-06-11                 Sweden         Estonia           6   \n",
      "1593   1933-06-29              Lithuania          Sweden           0   \n",
      "1612   1933-09-24             Yugoslavia     Switzerland           2   \n",
      "1620   1933-10-15                 Poland  Czechoslovakia           1   \n",
      "1627   1933-10-29            Switzerland         Romania           2   \n",
      "...           ...                    ...             ...         ...   \n",
      "45300  2023-11-21                Somalia          Uganda           0   \n",
      "45301  2023-11-21               Botswana          Guinea           1   \n",
      "45302  2023-11-21                 Malawi         Tunisia           0   \n",
      "45303  2023-11-21  São Tomé and Príncipe         Namibia           0   \n",
      "45304  2023-11-21                Comoros           Ghana           1   \n",
      "\n",
      "       away_score                    tournament         city      country  \\\n",
      "1588            2  FIFA World Cup qualification    Stockholm       Sweden   \n",
      "1593            2  FIFA World Cup qualification       Kaunas    Lithuania   \n",
      "1612            2  FIFA World Cup qualification     Belgrade   Yugoslavia   \n",
      "1620            2  FIFA World Cup qualification       Warsaw       Poland   \n",
      "1627            2  FIFA World Cup qualification        Berne  Switzerland   \n",
      "...           ...                           ...          ...          ...   \n",
      "45300           1  FIFA World Cup qualification      Berkane      Morocco   \n",
      "45301           0  FIFA World Cup qualification  Francistown     Botswana   \n",
      "45302           1  FIFA World Cup qualification     Lilongwe       Malawi   \n",
      "45303           2  FIFA World Cup qualification       Agadir      Morocco   \n",
      "45304           0  FIFA World Cup qualification       Moroni      Comoros   \n",
      "\n",
      "       neutral  total_score  \n",
      "1588     False            8  \n",
      "1593     False            2  \n",
      "1612     False            4  \n",
      "1620     False            3  \n",
      "1627     False            4  \n",
      "...        ...          ...  \n",
      "45300     True            1  \n",
      "45301    False            1  \n",
      "45302    False            1  \n",
      "45303     True            2  \n",
      "45304    False            1  \n",
      "\n",
      "[8016 rows x 10 columns]\n"
     ]
    },
    {
     "name": "stderr",
     "output_type": "stream",
     "text": [
      "C:\\Users\\Angelie\\AppData\\Local\\Temp\\ipykernel_5292\\3033552042.py:2: SettingWithCopyWarning: \n",
      "A value is trying to be set on a copy of a slice from a DataFrame.\n",
      "Try using .loc[row_indexer,col_indexer] = value instead\n",
      "\n",
      "See the caveats in the documentation: https://pandas.pydata.org/pandas-docs/stable/user_guide/indexing.html#returning-a-view-versus-a-copy\n",
      "  fifa_df.loc[:,'total_score']=total_score\n"
     ]
    }
   ],
   "source": [
    "total_score=fifa_df['home_score']+fifa_df['away_score']\n",
    "fifa_df.loc[:,'total_score']=total_score\n",
    "print(fifa_df)\n"
   ]
  },
  {
   "cell_type": "markdown",
   "id": "9b7d48d2",
   "metadata": {},
   "source": [
    "**5.3 Group your data by country, then get the sum of the _'total_score'_ column. From there, you can use `idxmax()` to find the country with the highest _'total_score'_.**"
   ]
  },
  {
   "cell_type": "code",
   "execution_count": 11,
   "id": "628b6683",
   "metadata": {},
   "outputs": [
    {
     "name": "stdout",
     "output_type": "stream",
     "text": [
      "Qatar\n"
     ]
    }
   ],
   "source": [
    "highest_total_score=fifa_df.groupby(['country'])['total_score'].sum()\n",
    "print(highest_total_score.idxmax())\n"
   ]
  }
 ],
 "metadata": {
  "kernelspec": {
   "display_name": "Python 3 (ipykernel)",
   "language": "python",
   "name": "python3"
  },
  "language_info": {
   "codemirror_mode": {
    "name": "ipython",
    "version": 3
   },
   "file_extension": ".py",
   "mimetype": "text/x-python",
   "name": "python",
   "nbconvert_exporter": "python",
   "pygments_lexer": "ipython3",
   "version": "3.11.7"
  }
 },
 "nbformat": 4,
 "nbformat_minor": 5
}
